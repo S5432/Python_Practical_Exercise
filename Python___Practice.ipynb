{
  "nbformat": 4,
  "nbformat_minor": 0,
  "metadata": {
    "colab": {
      "provenance": [],
      "authorship_tag": "ABX9TyOEVmG9FW8K9KOIv0iXQH5i"
    },
    "kernelspec": {
      "name": "python3",
      "display_name": "Python 3"
    },
    "language_info": {
      "name": "python"
    }
  },
  "cells": [
    {
      "cell_type": "code",
      "source": [
        "#  Make calculator in python.\n",
        "\n",
        "print('''\n",
        "\n",
        "+ Addition\n",
        "- Subtraction\n",
        "* Multilication\n",
        "/ Division\n",
        "\n",
        "''')\n",
        "\n",
        "# we use eval to handle all types of value like int,\n",
        "#float, binary etc.\n",
        "# it is part of type casting.\n",
        "num1 = eval(input(\"Enter the value 1:\"))\n",
        "num2 = eval(input(\"Enter the value 2:\"))\n",
        "opr = input(\"Enter the operation....(+,-,*,/): \")\n",
        "\n",
        "if opr ==\"+\":\n",
        "  print(num1+num2)\n",
        "\n",
        "elif opr ==\"-\":\n",
        "  print(num1-num2)\n",
        "\n",
        "elif opr ==\"*\":\n",
        "  print(num1*num2)\n",
        "\n",
        "elif opr ==\"/\":\n",
        "  print(num1/num2)\n",
        "\n",
        "else:\n",
        "  print(\"Invalid Operation..\")\n",
        "\n",
        "\n",
        "\n"
      ],
      "metadata": {
        "colab": {
          "base_uri": "https://localhost:8080/"
        },
        "id": "Lnf0yM2-aRXL",
        "outputId": "f74e9af2-cf57-46bd-9120-009e3f7c60ae"
      },
      "execution_count": 1,
      "outputs": [
        {
          "output_type": "stream",
          "name": "stdout",
          "text": [
            "\n",
            "\n",
            "+ Addition\n",
            "- Subtraction\n",
            "* Multilication\n",
            "/ Division\n",
            "\n",
            "\n",
            "Enter the value 1:10\n",
            "Enter the value 2:20\n",
            "Enter the operation....(+,-,*,/): +\n",
            "30\n"
          ]
        }
      ]
    },
    {
      "cell_type": "markdown",
      "source": [
        "# **Loop**"
      ],
      "metadata": {
        "id": "6dxroPoaaJWu"
      }
    },
    {
      "cell_type": "code",
      "source": [
        "# usage of range() function.\n",
        "\n",
        "for a in range(9):\n",
        "  print(a)"
      ],
      "metadata": {
        "colab": {
          "base_uri": "https://localhost:8080/"
        },
        "id": "2TF6YaolaHfd",
        "outputId": "6e266abc-4cf1-44a7-f2c9-23630be79012"
      },
      "execution_count": null,
      "outputs": [
        {
          "output_type": "stream",
          "name": "stdout",
          "text": [
            "0\n",
            "1\n",
            "2\n",
            "3\n",
            "4\n",
            "5\n",
            "6\n",
            "7\n",
            "8\n"
          ]
        }
      ]
    },
    {
      "cell_type": "code",
      "source": [
        "for p in range(2,11):\n",
        "  print(p)"
      ],
      "metadata": {
        "colab": {
          "base_uri": "https://localhost:8080/"
        },
        "id": "APcEbcu_cjui",
        "outputId": "0c69064d-6560-47fc-bc9a-9375bb6407aa"
      },
      "execution_count": null,
      "outputs": [
        {
          "output_type": "stream",
          "name": "stdout",
          "text": [
            "2\n",
            "3\n",
            "4\n",
            "5\n",
            "6\n",
            "7\n",
            "8\n",
            "9\n",
            "10\n"
          ]
        }
      ]
    },
    {
      "cell_type": "code",
      "source": [
        "for b in range(3, 34, 6):\n",
        "  print(b)"
      ],
      "metadata": {
        "colab": {
          "base_uri": "https://localhost:8080/"
        },
        "id": "B2fyaqRLcjlx",
        "outputId": "3359d7bc-4b6a-4fb9-c67c-5c89ff7236d4"
      },
      "execution_count": null,
      "outputs": [
        {
          "output_type": "stream",
          "name": "stdout",
          "text": [
            "3\n",
            "9\n",
            "15\n",
            "21\n",
            "27\n",
            "33\n"
          ]
        }
      ]
    },
    {
      "cell_type": "code",
      "source": [
        "for n in range(8):\n",
        "  print(\"Hello Universe!\")"
      ],
      "metadata": {
        "colab": {
          "base_uri": "https://localhost:8080/"
        },
        "id": "vMA98YYccji6",
        "outputId": "96e7af0a-bb4e-43be-beff-506ddd5f519e"
      },
      "execution_count": null,
      "outputs": [
        {
          "output_type": "stream",
          "name": "stdout",
          "text": [
            "Hello Universe!\n",
            "Hello Universe!\n",
            "Hello Universe!\n",
            "Hello Universe!\n",
            "Hello Universe!\n",
            "Hello Universe!\n",
            "Hello Universe!\n",
            "Hello Universe!\n"
          ]
        }
      ]
    },
    {
      "cell_type": "code",
      "source": [
        "for a in range(1,11):\n",
        "  print(2*a)"
      ],
      "metadata": {
        "colab": {
          "base_uri": "https://localhost:8080/"
        },
        "id": "g3MSNuyrcjfh",
        "outputId": "8f0cf26e-40a6-4fbf-a07d-fbd1408708f7"
      },
      "execution_count": null,
      "outputs": [
        {
          "output_type": "stream",
          "name": "stdout",
          "text": [
            "2\n",
            "4\n",
            "6\n",
            "8\n",
            "10\n",
            "12\n",
            "14\n",
            "16\n",
            "18\n",
            "20\n"
          ]
        }
      ]
    },
    {
      "cell_type": "code",
      "source": [
        "for a in range(1,11):\n",
        "  print(\"2*\",a,\"=\",2*a)"
      ],
      "metadata": {
        "colab": {
          "base_uri": "https://localhost:8080/"
        },
        "id": "n-n_t5p0cjcp",
        "outputId": "1b91c5ce-40fd-437b-9577-f6598b057571"
      },
      "execution_count": null,
      "outputs": [
        {
          "output_type": "stream",
          "name": "stdout",
          "text": [
            "2* 1 = 2\n",
            "2* 2 = 4\n",
            "2* 3 = 6\n",
            "2* 4 = 8\n",
            "2* 5 = 10\n",
            "2* 6 = 12\n",
            "2* 7 = 14\n",
            "2* 8 = 16\n",
            "2* 9 = 18\n",
            "2* 10 = 20\n"
          ]
        }
      ]
    },
    {
      "cell_type": "code",
      "source": [
        "# reverse case of range function\n",
        "\n",
        "for w in range(11, 1, -1):\n",
        "  print(w)"
      ],
      "metadata": {
        "colab": {
          "base_uri": "https://localhost:8080/"
        },
        "id": "mVDRKqbZcjaC",
        "outputId": "02bca1dc-0541-4109-97fc-b7b4efcac454"
      },
      "execution_count": null,
      "outputs": [
        {
          "output_type": "stream",
          "name": "stdout",
          "text": [
            "11\n",
            "10\n",
            "9\n",
            "8\n",
            "7\n",
            "6\n",
            "5\n",
            "4\n",
            "3\n",
            "2\n"
          ]
        }
      ]
    },
    {
      "cell_type": "code",
      "source": [
        "# while Loop.....\n",
        "# start/ initialization\n",
        "# condition\n",
        "# increment/decrement\n",
        "\n",
        "i=1\n",
        "while i<11:\n",
        "  print(i,\"Hello Universe!\")\n",
        "  i= i+1\n"
      ],
      "metadata": {
        "colab": {
          "base_uri": "https://localhost:8080/"
        },
        "id": "yPjzWni-cjWr",
        "outputId": "f10f0a21-58ef-4623-b0ca-169dc8347c64"
      },
      "execution_count": null,
      "outputs": [
        {
          "output_type": "stream",
          "name": "stdout",
          "text": [
            "1 Hello Universe!\n",
            "2 Hello Universe!\n",
            "3 Hello Universe!\n",
            "4 Hello Universe!\n",
            "5 Hello Universe!\n",
            "6 Hello Universe!\n",
            "7 Hello Universe!\n",
            "8 Hello Universe!\n",
            "9 Hello Universe!\n",
            "10 Hello Universe!\n"
          ]
        }
      ]
    },
    {
      "cell_type": "code",
      "source": [
        "# reverse\n",
        "\n",
        "a=10\n",
        "while a>=1:\n",
        "  print(a, \"Smile\")\n",
        "  a=a-1"
      ],
      "metadata": {
        "colab": {
          "base_uri": "https://localhost:8080/"
        },
        "id": "HxvGBNbDd9XF",
        "outputId": "ac7b8ef3-787a-4fa1-a6cf-aa556ab0a68b"
      },
      "execution_count": null,
      "outputs": [
        {
          "output_type": "stream",
          "name": "stdout",
          "text": [
            "10 Smile\n",
            "9 Smile\n",
            "8 Smile\n",
            "7 Smile\n",
            "6 Smile\n",
            "5 Smile\n",
            "4 Smile\n",
            "3 Smile\n",
            "2 Smile\n",
            "1 Smile\n"
          ]
        }
      ]
    },
    {
      "cell_type": "code",
      "source": [
        "x= 0\n",
        "while x<5:\n",
        "  # print(\"Not there yet, x=\" +str(x))\n",
        "  print(\"x=\" +str(x))\n",
        "  x=x+1\n"
      ],
      "metadata": {
        "colab": {
          "base_uri": "https://localhost:8080/"
        },
        "id": "FJ49ApRTfZm4",
        "outputId": "ba894451-97fc-48a5-d1d9-c9d76e23b08d"
      },
      "execution_count": null,
      "outputs": [
        {
          "output_type": "stream",
          "name": "stdout",
          "text": [
            "x=0\n",
            "x=1\n",
            "x=2\n",
            "x=3\n",
            "x=4\n"
          ]
        }
      ]
    },
    {
      "cell_type": "code",
      "source": [
        "x= 0\n",
        "while x<5:\n",
        "  # print(\"Not there yet, x=\" +str(x))\n",
        "\n",
        "  x=x+1\n",
        "  print(\"x=\" +str(x))"
      ],
      "metadata": {
        "colab": {
          "base_uri": "https://localhost:8080/"
        },
        "id": "1naaeL3peUKl",
        "outputId": "d393ede8-411b-450d-9811-f83d3b9d657b"
      },
      "execution_count": null,
      "outputs": [
        {
          "output_type": "stream",
          "name": "stdout",
          "text": [
            "x=1\n",
            "x=2\n",
            "x=3\n",
            "x=4\n",
            "x=5\n"
          ]
        }
      ]
    },
    {
      "cell_type": "code",
      "source": [
        "def attempts(q):\n",
        "  x=1\n",
        "  while x<=q:\n",
        "    print(\"Attempt \" +str(x))\n",
        "    x=x+1\n",
        "  print(\"Done!\")\n",
        "\n",
        "attempts(6)"
      ],
      "metadata": {
        "colab": {
          "base_uri": "https://localhost:8080/"
        },
        "id": "3TA_TEvWfLPQ",
        "outputId": "547fa938-df9e-488f-d579-f44f3c1ce69d"
      },
      "execution_count": null,
      "outputs": [
        {
          "output_type": "stream",
          "name": "stdout",
          "text": [
            "Attempt 1\n",
            "Attempt 2\n",
            "Attempt 3\n",
            "Attempt 4\n",
            "Attempt 5\n",
            "Attempt 6\n",
            "Done!\n"
          ]
        }
      ]
    },
    {
      "cell_type": "code",
      "source": [
        "x=1\n",
        "sum=0\n",
        "while x<11:\n",
        "  sum += x\n",
        "  x += 1\n",
        "print(sum)"
      ],
      "metadata": {
        "colab": {
          "base_uri": "https://localhost:8080/"
        },
        "id": "-6UQeKCvf3pR",
        "outputId": "8edab1a0-73c0-4088-c7db-ad175fecec4e"
      },
      "execution_count": 2,
      "outputs": [
        {
          "output_type": "stream",
          "name": "stdout",
          "text": [
            "55\n"
          ]
        }
      ]
    },
    {
      "cell_type": "code",
      "source": [
        "x=1\n",
        "multi=1\n",
        "while x<10:\n",
        "  multi *= x\n",
        "  x += 1\n",
        "print(multi)"
      ],
      "metadata": {
        "colab": {
          "base_uri": "https://localhost:8080/"
        },
        "id": "su4IaJZFgZX0",
        "outputId": "983ef556-90af-4afb-b1fe-6446d57d6653"
      },
      "execution_count": null,
      "outputs": [
        {
          "output_type": "stream",
          "name": "stdout",
          "text": [
            "362880\n"
          ]
        }
      ]
    },
    {
      "cell_type": "markdown",
      "source": [
        "#**Ex.1 Print the first 10 natural numbers using for loop.**\n",
        "\n",
        "https://www.shiksha.com/online-courses/articles/for-loop-in-python-examples/#2"
      ],
      "metadata": {
        "id": "x-gbLcgbkQ18"
      }
    },
    {
      "cell_type": "code",
      "source": [
        "# between 0 to 10 we have 11\n",
        "# numbers therefore we set the value of n to 11.\n",
        "n= 11\n",
        "\n",
        "for i in range(1,n):\n",
        "  print(i)"
      ],
      "metadata": {
        "colab": {
          "base_uri": "https://localhost:8080/"
        },
        "id": "Y_y9-F_ng0xn",
        "outputId": "cb65e423-d4e8-4bc8-edaf-8bad619dd173"
      },
      "execution_count": null,
      "outputs": [
        {
          "output_type": "stream",
          "name": "stdout",
          "text": [
            "1\n",
            "2\n",
            "3\n",
            "4\n",
            "5\n",
            "6\n",
            "7\n",
            "8\n",
            "9\n",
            "10\n"
          ]
        }
      ]
    },
    {
      "cell_type": "code",
      "source": [
        "# print the natural number by enter the range from the users:\n",
        "x = int(input(\"Enter the starting number: \"))\n",
        "n = int(input(\"Enter the Ending  number: \"))\n",
        "m = n+1\n",
        "for i in range(x,m):\n",
        "  print(i)\n",
        "\n"
      ],
      "metadata": {
        "colab": {
          "base_uri": "https://localhost:8080/"
        },
        "id": "q7fejsFgg0vV",
        "outputId": "4d40c172-4625-4b9d-8916-79a751c76771"
      },
      "execution_count": null,
      "outputs": [
        {
          "output_type": "stream",
          "name": "stdout",
          "text": [
            "Enter the starting number: 5\n",
            "Enter the Ending  number: 15\n",
            "5\n",
            "6\n",
            "7\n",
            "8\n",
            "9\n",
            "10\n",
            "11\n",
            "12\n",
            "13\n",
            "14\n",
            "15\n"
          ]
        }
      ]
    },
    {
      "cell_type": "markdown",
      "source": [
        "#Example 2: Write Python program to print all the even numbers within the given range."
      ],
      "metadata": {
        "id": "thYkiRdTn1Sg"
      }
    },
    {
      "cell_type": "code",
      "source": [
        "x = int(input(\"Enter the Starting number:\"))\n",
        "n = int(input(\"Enter the Ending number:\"))\n",
        "\n",
        "m =n+1\n",
        "\n",
        "for i in range(x,m):\n",
        "  if i%2==0:\n",
        "    print(i)"
      ],
      "metadata": {
        "colab": {
          "base_uri": "https://localhost:8080/"
        },
        "id": "zWIJ40S9n01o",
        "outputId": "93ecebd4-6e22-4013-981a-0ef234666e7e"
      },
      "execution_count": null,
      "outputs": [
        {
          "output_type": "stream",
          "name": "stdout",
          "text": [
            "Enter the Starting number:3\n",
            "Enter the Ending number:30\n",
            "4\n",
            "6\n",
            "8\n",
            "10\n",
            "12\n",
            "14\n",
            "16\n",
            "18\n",
            "20\n",
            "22\n",
            "24\n",
            "26\n",
            "28\n",
            "30\n"
          ]
        }
      ]
    },
    {
      "cell_type": "code",
      "source": [
        "given_range = int(input(\"Enter the even numbers range:\"))\n",
        "\n",
        "for i in range(given_range):\n",
        "  if i%2==0:\n",
        "    print(i)"
      ],
      "metadata": {
        "colab": {
          "base_uri": "https://localhost:8080/"
        },
        "id": "phUYEa95g0sd",
        "outputId": "c948c8ba-3daa-4968-86cc-50c33648456f"
      },
      "execution_count": null,
      "outputs": [
        {
          "output_type": "stream",
          "name": "stdout",
          "text": [
            "Enter the even numbers range:20\n",
            "0\n",
            "2\n",
            "4\n",
            "6\n",
            "8\n",
            "10\n",
            "12\n",
            "14\n",
            "16\n",
            "18\n"
          ]
        }
      ]
    },
    {
      "cell_type": "code",
      "source": [
        "x = int(input(\"Enter the number:\"))\n",
        "y=1\n",
        "sum =0\n",
        "while(y<=x):\n",
        "  sum = sum+y\n",
        "  y = y+1\n",
        "print(sum)\n",
        "print()"
      ],
      "metadata": {
        "id": "lhjFGvhmg0ph",
        "colab": {
          "base_uri": "https://localhost:8080/"
        },
        "outputId": "270d9104-0ff4-4e48-cee6-ff2c598ea850"
      },
      "execution_count": 3,
      "outputs": [
        {
          "output_type": "stream",
          "name": "stdout",
          "text": [
            "Enter the number:10\n",
            "55\n",
            "\n"
          ]
        }
      ]
    },
    {
      "cell_type": "code",
      "source": [
        "# by for loop\n",
        "x = int(input(\"Enter the number:\"))\n",
        "y=1\n",
        "n = x+1\n",
        "sum=0\n",
        "for i in range(y,n):\n",
        "  sum = sum+i\n",
        "print(sum)"
      ],
      "metadata": {
        "id": "qRZqgfBUg0m-",
        "colab": {
          "base_uri": "https://localhost:8080/"
        },
        "outputId": "26459ecf-3b0d-4d9b-a214-f477afae41c7"
      },
      "execution_count": 6,
      "outputs": [
        {
          "output_type": "stream",
          "name": "stdout",
          "text": [
            "Enter the number:10\n",
            "55\n"
          ]
        }
      ]
    },
    {
      "cell_type": "code",
      "source": [
        "# 5 Write a python program to print the multiplication table of a given number?\n",
        "\n",
        "m = int(input(\"Enter a number:\"))\n",
        "for i in range(1,11):\n",
        "    print(m,\"*\",i,\"=\", m*i)"
      ],
      "metadata": {
        "id": "fgn9yy8Xg0kG",
        "colab": {
          "base_uri": "https://localhost:8080/"
        },
        "outputId": "0910605b-efee-4daa-80cd-2e505fcc6e6f"
      },
      "execution_count": 9,
      "outputs": [
        {
          "output_type": "stream",
          "name": "stdout",
          "text": [
            "Enter a number:5\n",
            "5 * 1 = 5\n",
            "5 * 2 = 10\n",
            "5 * 3 = 15\n",
            "5 * 4 = 20\n",
            "5 * 5 = 25\n",
            "5 * 6 = 30\n",
            "5 * 7 = 35\n",
            "5 * 8 = 40\n",
            "5 * 9 = 45\n",
            "5 * 10 = 50\n"
          ]
        }
      ]
    },
    {
      "cell_type": "code",
      "source": [],
      "metadata": {
        "id": "D3J4hSYAg0hg"
      },
      "execution_count": null,
      "outputs": []
    },
    {
      "cell_type": "code",
      "source": [],
      "metadata": {
        "id": "glT3s64wg0e2"
      },
      "execution_count": null,
      "outputs": []
    },
    {
      "cell_type": "code",
      "source": [],
      "metadata": {
        "id": "qwSMbX5Og0bX"
      },
      "execution_count": null,
      "outputs": []
    }
  ]
}